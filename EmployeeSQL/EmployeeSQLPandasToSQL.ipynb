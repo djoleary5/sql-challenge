{
 "cells": [
  {
   "cell_type": "code",
   "execution_count": 1,
   "metadata": {},
   "outputs": [],
   "source": [
    "import pandas as pd\n",
    "from sqlalchemy import create_engine"
   ]
  },
  {
   "cell_type": "code",
   "execution_count": 2,
   "metadata": {},
   "outputs": [],
   "source": [
    "#import each of the CSVs to be loaded into SQL database\n",
    "dept_csv = \"data/departments.csv\"\n",
    "departments = pd.read_csv(dept_csv)\n",
    "\n",
    "dept_emp_csv = \"data/dept_emp.csv\"\n",
    "dept_emp = pd.read_csv(dept_emp_csv)\n",
    "\n",
    "dept_manager_csv = \"data/dept_manager.csv\"\n",
    "dept_manager = pd.read_csv(dept_manager_csv)\n",
    "\n",
    "employees_csv = \"data/employees.csv\"\n",
    "employees = pd.read_csv(employees_csv)\n",
    "\n",
    "salaries_csv = \"data/salaries.csv\"\n",
    "salaries = pd.read_csv(salaries_csv)\n",
    "\n",
    "titles_csv = \"data/titles.csv\"\n",
    "titles = pd.read_csv(titles_csv)"
   ]
  },
  {
   "cell_type": "code",
   "execution_count": 3,
   "metadata": {},
   "outputs": [],
   "source": [
    "#Connect to servier and input each df into a table\n",
    "rds_connection_string = \"root:Babe1212@localhost:3306/bootcamp\"\n",
    "engine = create_engine(f'mysql://{rds_connection_string}')"
   ]
  },
  {
   "cell_type": "code",
   "execution_count": 4,
   "metadata": {},
   "outputs": [],
   "source": [
    "departments.to_sql(name='departments', con=engine, if_exists='append', index=False)"
   ]
  },
  {
   "cell_type": "code",
   "execution_count": 5,
   "metadata": {},
   "outputs": [],
   "source": [
    "dept_emp.to_sql(name='dept_emp', con=engine, if_exists='append', index=False)"
   ]
  },
  {
   "cell_type": "code",
   "execution_count": 6,
   "metadata": {},
   "outputs": [],
   "source": [
    "dept_manager.to_sql(name='dept_manager', con=engine, if_exists='append', index=False)"
   ]
  },
  {
   "cell_type": "code",
   "execution_count": 7,
   "metadata": {},
   "outputs": [],
   "source": [
    "employees.to_sql(name='employees', con=engine, if_exists='append', index=False)"
   ]
  },
  {
   "cell_type": "code",
   "execution_count": 8,
   "metadata": {},
   "outputs": [],
   "source": [
    "salaries.to_sql(name='salaries', con=engine, if_exists='append', index=False)"
   ]
  },
  {
   "cell_type": "code",
   "execution_count": 9,
   "metadata": {},
   "outputs": [],
   "source": [
    "titles.to_sql(name='titles', con=engine, if_exists='append', index=False)"
   ]
  },
  {
   "cell_type": "code",
   "execution_count": null,
   "metadata": {},
   "outputs": [],
   "source": []
  },
  {
   "cell_type": "code",
   "execution_count": null,
   "metadata": {},
   "outputs": [],
   "source": []
  }
 ],
 "metadata": {
  "kernelspec": {
   "display_name": "Python 3",
   "language": "python",
   "name": "python3"
  },
  "language_info": {
   "codemirror_mode": {
    "name": "ipython",
    "version": 3
   },
   "file_extension": ".py",
   "mimetype": "text/x-python",
   "name": "python",
   "nbconvert_exporter": "python",
   "pygments_lexer": "ipython3",
   "version": "3.7.3"
  }
 },
 "nbformat": 4,
 "nbformat_minor": 2
}
